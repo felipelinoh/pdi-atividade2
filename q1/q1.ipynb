{
 "cells": [
  {
   "cell_type": "code",
   "execution_count": 27,
   "metadata": {},
   "outputs": [],
   "source": [
    "import cv2\n",
    "import matplotlib.pyplot as plt\n",
    "import numpy as np"
   ]
  },
  {
   "cell_type": "code",
   "execution_count": null,
   "metadata": {},
   "outputs": [],
   "source": [
    "#Felipe Lin Oh\n",
    "#RM:92936\n",
    "#4SIPF\n",
    "\n",
    "## implementar a função que identifica a bandeira\n",
    "## a função deve receber uma imagem e retornar a bandeira identificada\n",
    "## a função deve retornar uma lista de tuplas, onde cada tupla contém as coordenadas de um dos cantos da bandeira\n",
    "## [(PAIS, (x1, y2), (x2, y2)`),(PAIS, (x1, y2), (x2, y2)`),(PAIS, (x1, y2), (x2, y2)`),...]\n",
    "\n",
    "def identifica_bandeira(img):\n",
    "    # Sua implementação deve começar aqui\n",
    "     \n",
    "    img_gray = cv2.cvtColor(img, cv2.COLOR_BGR2GRAY)\n",
    "    img_gray = np.uint8(img_gray)\n",
    "    _, mask = cv2.threshold(img_gray, 45, 255, cv2.THRESH_BINARY)\n",
    "    contours,_ = cv2.findContours(mask, cv2.RETR_EXTERNAL, cv2.CHAIN_APPROX_SIMPLE)\n",
    "    \n",
    "    bandeira = {\n",
    "       \"italia\": [(54, 146, 0), (255, 255, 255)],\n",
    "        \"irlanda\": [(78, 153, 21), (255, 255, 255), (58, 138, 258)],\n",
    "        \"peru\": [(17, 17, 220), (255, 255, 255)],\n",
    "        \"monaco\": [(38, 14, 208), (255, 255, 255)],\n",
    "        \"singapura\": [(54, 41, 248), (255, 255, 255)]\n",
    "    }\n",
    "\n",
    "    lista_bandeiras = []\n",
    "\n",
    "    def verifica_cor(region, cor):\n",
    "        lower = np.array([max(0, c - 20) for c in cor])\n",
    "        upper = np.array([min(255, c + 20) for c in cor])\n",
    "        mascara = cv2.inRange(region, lower, upper)\n",
    "        return cv2.countNonZero(mascara) > 0.1 * region.size \n",
    "       \n",
    "    for contour in contours:\n",
    "        x, y, w, h = cv2.boundingRect(contour)\n",
    "        if w > 50 and h > 30:\n",
    "            region = img[y:y+h, x:x+w]\n",
    "            for pais, cores in bandeira.items():\n",
    "                cores_presentes = sum(verifica_cor(region, cor) for cor in cores)\n",
    "                if cores_presentes == len(cores):\n",
    "                    lista_bandeiras.append((pais, (x, y), (x + w, y + h)))\n",
    "        \n",
    "        \n",
    "    return lista_bandeiras\n",
    "    # quando implemenar a função, remova o pass\n",
    "    \n",
    "\n"
   ]
  },
  {
   "cell_type": "code",
   "execution_count": 88,
   "metadata": {},
   "outputs": [],
   "source": [
    "## nao alterar essa função\n",
    "# Função para desenhar as bandeiras identificadas\n",
    "def draw_bandeiras(lista_bandeiras, bgr):\n",
    "    try:\n",
    "        for bandeira in lista_bandeiras:\n",
    "            cv2.rectangle(bgr, bandeira[1], bandeira[2], (255, 0, 0), 5)\n",
    "            cv2.putText(bgr, bandeira[0], bandeira[1], cv2.FONT_HERSHEY_SIMPLEX, 1, (255, 0, 0), 2, cv2.LINE_AA)\n",
    "        return bgr\n",
    "    except Exception as e:\n",
    "        return bgr"
   ]
  },
  {
   "cell_type": "code",
   "execution_count": 104,
   "metadata": {},
   "outputs": [
    {
     "name": "stdout",
     "output_type": "stream",
     "text": [
      "[('singapura', (192, 497), (457, 673)), ('monaco', (726, 163), (984, 370)), ('peru', (119, 121), (380, 296)), ('monaco', (119, 121), (380, 296))]\n"
     ]
    },
    {
     "data": {
      "image/png": "[encoded data removed]",
      "text/plain": [
       "<Figure size 640x480 with 1 Axes>"
      ]
     },
     "metadata": {},
     "output_type": "display_data"
    }
   ],
   "source": [
    "## Para testar a função identifica_bandeira\n",
    "\n",
    "# Você pode testar a função identifica_bandeira com as imagens de teste fornecidas\n",
    "\n",
    "img = cv2.imread('img/teste1.png')\n",
    "# img = cv2.imread('img/teste2.png')\n",
    "# img = cv2.imread('img/teste3.png')\n",
    "# img = cv2.imread('img/teste4.png')\n",
    "\n",
    "# Chamar a função identifica_bandeira\n",
    "resultado = identifica_bandeira(img)\n",
    "\n",
    "# # Imprimir o resultado da função identifica_bandeira \n",
    "print(resultado)\n",
    "\n",
    "# # Desenhar as bandeiras na imagem\n",
    "bgr = draw_bandeiras(resultado, img)\n",
    "plt.imshow(cv2.cvtColor(img, cv2.COLOR_BGR2RGB))\n",
    "plt.show()\n",
    "\n",
    "\n"
   ]
  },
  {
   "cell_type": "code",
   "execution_count": null,
   "metadata": {},
   "outputs": [],
   "source": []
  }
 ],
 "metadata": {
  "kernelspec": {
   "display_name": "Python 3",
   "language": "python",
   "name": "python3"
  },
  "language_info": {
   "codemirror_mode": {
    "name": "ipython",
    "version": 3
   },
   "file_extension": ".py",
   "mimetype": "text/x-python",
   "name": "python",
   "nbconvert_exporter": "python",
   "pygments_lexer": "ipython3",
   "version": "3.13.2"
  }
 },
 "nbformat": 4,
 "nbformat_minor": 2
}
